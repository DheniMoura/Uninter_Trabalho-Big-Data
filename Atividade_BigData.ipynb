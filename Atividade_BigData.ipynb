{
  "nbformat": 4,
  "nbformat_minor": 0,
  "metadata": {
    "colab": {
      "provenance": [],
      "mount_file_id": "1MAHJqol9STwphciYnyTIwMocvSOe6eyK",
      "authorship_tag": "ABX9TyPcgJfrbb38Ys2QkzDuPnO0",
      "include_colab_link": true
    },
    "kernelspec": {
      "name": "python3",
      "display_name": "Python 3"
    },
    "language_info": {
      "name": "python"
    }
  },
  "cells": [
    {
      "cell_type": "markdown",
      "metadata": {
        "id": "view-in-github",
        "colab_type": "text"
      },
      "source": [
        "<a href=\"https://colab.research.google.com/github/DheniMoura/Uninter_Trabalho-Big-Data/blob/main/Atividade_BigData.ipynb\" target=\"_parent\"><img src=\"https://colab.research.google.com/assets/colab-badge.svg\" alt=\"Open In Colab\"/></a>"
      ]
    },
    {
      "cell_type": "code",
      "source": [
        "# Dhenifer Moura\n",
        "ru = 452947"
      ],
      "metadata": {
        "id": "XkLlMMehVY_y"
      },
      "execution_count": 1,
      "outputs": []
    },
    {
      "cell_type": "code",
      "source": [
        "# importar o arquivo do google drive\n",
        "from google.colab import drive\n",
        "drive.mount('/content/drive')"
      ],
      "metadata": {
        "colab": {
          "base_uri": "https://localhost:8080/"
        },
        "id": "J-I6RXQ2VeYZ",
        "outputId": "be99f919-ab46-4b03-f3a3-b614f64be737"
      },
      "execution_count": 2,
      "outputs": [
        {
          "output_type": "stream",
          "name": "stdout",
          "text": [
            "Mounted at /content/drive\n"
          ]
        }
      ]
    },
    {
      "cell_type": "code",
      "source": [
        "# Instalações necessárias\n",
        "!apt-get install openjdk-8-jdk-headless -qq > /dev/null\n",
        "!wget -q https://dlcdn.apache.org/spark/spark-3.4.0/spark-3.4.0-bin-hadoop3.tgz\n",
        "!tar xf spark-3.4.0-bin-hadoop3.tgz"
      ],
      "metadata": {
        "id": "812jzSvqVgmC"
      },
      "execution_count": 3,
      "outputs": []
    },
    {
      "cell_type": "code",
      "source": [
        "!pip install -q findspark"
      ],
      "metadata": {
        "id": "FqpKFv9QVlfv"
      },
      "execution_count": 4,
      "outputs": []
    },
    {
      "cell_type": "code",
      "source": [
        "#copia do dataframe na pasta drive\n",
        "!cp /content/drive/MyDrive/Colab_Notebooks/imdb-reviews-pt-br.csv /content"
      ],
      "metadata": {
        "colab": {
          "base_uri": "https://localhost:8080/"
        },
        "id": "HZLSaEJEVqGz",
        "outputId": "5652771e-323a-4f68-876f-86e50ff73df4"
      },
      "execution_count": 5,
      "outputs": [
        {
          "output_type": "stream",
          "name": "stdout",
          "text": [
            "cp: cannot stat '/content/drive/MyDrive/Colab_Notebooks/imdb-reviews-pt-br.csv': No such file or directory\n"
          ]
        }
      ]
    },
    {
      "cell_type": "code",
      "source": [
        "#biblioteca \"os\" para configuração das variáveis de caminho de ambiente\n",
        "import os\n",
        "\n",
        "os.environ[\"JAVA_HOME\"] = \"/usr/lib/jvm/java-8-openjdk-amd64\"\n",
        "os.environ[\"SPARK_HOME\"] = \"/content/spark-3.4.0-bin-hadoop3\""
      ],
      "metadata": {
        "id": "KaHStAV9VoB7"
      },
      "execution_count": 6,
      "outputs": []
    },
    {
      "cell_type": "code",
      "source": [
        "import findspark\n",
        "\n",
        "findspark.init()\n",
        "\n",
        "from pyspark.sql import SparkSession"
      ],
      "metadata": {
        "id": "a_mO_DzAVr6R"
      },
      "execution_count": 7,
      "outputs": []
    },
    {
      "cell_type": "code",
      "source": [
        "# para manipular vairáveis\n",
        "from pyspark.sql.functions import *"
      ],
      "metadata": {
        "id": "nH7vjxjkWNsO"
      },
      "execution_count": 8,
      "outputs": []
    },
    {
      "cell_type": "code",
      "source": [
        "#sessão local\n",
        "spark = SparkSession.builder.master(\"local[*]\").getOrCreate()"
      ],
      "metadata": {
        "id": "JswLk-48VtzR"
      },
      "execution_count": 9,
      "outputs": []
    },
    {
      "cell_type": "markdown",
      "source": [
        "# Prática 01 – Somatório de IDs\n",
        "Questão – Qual o valor da soma de todos os campos “id” dos filmes classificados como negativos para o banco de dados “imdb-reviews-pt-br.csv”<br>\n",
        "Descobrir qual o valor da soma de todos os campos “id” dos filmes classificados como negativos para o banco de dados “imdb-reviews-pt-br.csv”."
      ],
      "metadata": {
        "id": "Sj4ZMRG8V1B5"
      }
    },
    {
      "cell_type": "code",
      "source": [
        "# carregando dados\n",
        "df = spark.read.csv(\"/content/drive/MyDrive/Uninter/Big_Data/trabalho_452947/imdb-reviews-pt-br.csv\", \n",
        "                    header=True,quote=\"\\\"\", escape=\"\\\"\", encoding=\"UTF-8\")"
      ],
      "metadata": {
        "id": "APFUJX1wVvh6"
      },
      "execution_count": 10,
      "outputs": []
    },
    {
      "cell_type": "code",
      "source": [
        "# visualização \n",
        "df.show(5)"
      ],
      "metadata": {
        "colab": {
          "base_uri": "https://localhost:8080/"
        },
        "id": "7xMGSBKSV4Q6",
        "outputId": "0023eae9-4629-4c39-f09a-df87ca9d1ecc"
      },
      "execution_count": 11,
      "outputs": [
        {
          "output_type": "stream",
          "name": "stdout",
          "text": [
            "+---+--------------------+--------------------+---------+\n",
            "| id|             text_en|             text_pt|sentiment|\n",
            "+---+--------------------+--------------------+---------+\n",
            "|  1|Once again Mr. Co...|Mais uma vez, o S...|      neg|\n",
            "|  2|This is an exampl...|Este é um exemplo...|      neg|\n",
            "|  3|First of all I ha...|Primeiro de tudo ...|      neg|\n",
            "|  4|Not even the Beat...|Nem mesmo os Beat...|      neg|\n",
            "|  5|Brass pictures mo...|Filmes de fotos d...|      neg|\n",
            "+---+--------------------+--------------------+---------+\n",
            "only showing top 5 rows\n",
            "\n"
          ]
        }
      ]
    },
    {
      "cell_type": "code",
      "source": [
        "#tipo do dataframe\n",
        "type(df)"
      ],
      "metadata": {
        "colab": {
          "base_uri": "https://localhost:8080/"
        },
        "id": "jiW0rRE2WKk0",
        "outputId": "465d3754-1183-4148-fd8e-a67730611dbf"
      },
      "execution_count": 12,
      "outputs": [
        {
          "output_type": "execute_result",
          "data": {
            "text/plain": [
              "pyspark.sql.dataframe.DataFrame"
            ]
          },
          "metadata": {},
          "execution_count": 12
        }
      ]
    },
    {
      "cell_type": "code",
      "source": [
        "# id de string para inteiro\n",
        "df = df.withColumn(\n",
        "    colName = 'id', \n",
        "    col = regexp_replace('id','','').cast('int')\n",
        "    )\n",
        "\n",
        "df.select('id').printSchema()"
      ],
      "metadata": {
        "colab": {
          "base_uri": "https://localhost:8080/"
        },
        "id": "FNJleb4pWPS6",
        "outputId": "c56511ca-ce85-43cf-c61f-02f34605ef96"
      },
      "execution_count": 13,
      "outputs": [
        {
          "output_type": "stream",
          "name": "stdout",
          "text": [
            "root\n",
            " |-- id: integer (nullable = true)\n",
            "\n"
          ]
        }
      ]
    },
    {
      "cell_type": "code",
      "source": [
        "#Filtrando por sentiment = neg\n",
        "df_neg = df.where('sentiment == \"neg\" ')\n",
        "df_neg.show(5)"
      ],
      "metadata": {
        "id": "N_gH4t5uXBRl",
        "colab": {
          "base_uri": "https://localhost:8080/"
        },
        "outputId": "8fdc3203-7a18-4ebf-ebbf-fac3ed8adf35"
      },
      "execution_count": 15,
      "outputs": [
        {
          "output_type": "stream",
          "name": "stdout",
          "text": [
            "+---+--------------------+--------------------+---------+\n",
            "| id|             text_en|             text_pt|sentiment|\n",
            "+---+--------------------+--------------------+---------+\n",
            "|  1|Once again Mr. Co...|Mais uma vez, o S...|      neg|\n",
            "|  2|This is an exampl...|Este é um exemplo...|      neg|\n",
            "|  3|First of all I ha...|Primeiro de tudo ...|      neg|\n",
            "|  4|Not even the Beat...|Nem mesmo os Beat...|      neg|\n",
            "|  5|Brass pictures mo...|Filmes de fotos d...|      neg|\n",
            "+---+--------------------+--------------------+---------+\n",
            "only showing top 5 rows\n",
            "\n"
          ]
        }
      ]
    },
    {
      "cell_type": "code",
      "source": [
        "#somando a coluna id com base no sentiment neg.\n",
        "print(\"RU: \", ru)\n",
        "total_neg = df_neg.groupBy('sentiment').agg(sum('id')\n",
        ".alias(\"Total_sum\")).orderBy('sentiment').where('sentiment == \"neg\" ')\n",
        "total_neg.show()"
      ],
      "metadata": {
        "colab": {
          "base_uri": "https://localhost:8080/"
        },
        "id": "J3Eqj9huXEze",
        "outputId": "1cad2c09-b8a4-4d80-f45c-df330e0563b9"
      },
      "execution_count": 16,
      "outputs": [
        {
          "output_type": "stream",
          "name": "stdout",
          "text": [
            "RU:  452947\n",
            "+---------+---------+\n",
            "|sentiment|Total_sum|\n",
            "+---------+---------+\n",
            "|      neg|459568555|\n",
            "+---------+---------+\n",
            "\n"
          ]
        }
      ]
    },
    {
      "cell_type": "markdown",
      "source": [
        "###Conclusão\n",
        "Para os filmes classificados com ‘sentiment’ = ‘neg’, os valores dos ‘ids’ somaram 459.568.555"
      ],
      "metadata": {
        "id": "UsNglIL7XLvV"
      }
    },
    {
      "cell_type": "markdown",
      "source": [
        "# Prática 02 – Diferença do número de palavras totais de português para inglês dos textos negativos\n",
        "Questão – Contar palavras dos textos negativos e achar diferença de quantidade. <br>\n",
        "Nessa prática você deverá contar todas as palavras existentes nos textos negativos (Português e Inglês) e então deverá encontrar quantas palavras a mais, no total, os textos em português possuem.\n",
        "Para tal, crie um script em Python ou Scala e rode-o com sua máquina virtual Hadoop ou Spark ou PySpark, como feito na prática 1.\n",
        "É necessário se preocupar em filtrar corretamente as avaliações de filmes para que apenas os textos marcados como negativos sejam contabilizados."
      ],
      "metadata": {
        "id": "nAL2Z9mEWQOA"
      }
    },
    {
      "cell_type": "code",
      "source": [
        "# criando dfs apenas com as colunas desejadas\n",
        "df_en = df.select('id','text_en','sentiment')\n",
        "df_pt = df.select('id','text_pt','sentiment')"
      ],
      "metadata": {
        "id": "UR9yZSeMWoGi"
      },
      "execution_count": 17,
      "outputs": []
    },
    {
      "cell_type": "code",
      "source": [
        "# filtrando conde o sentiment é negativo\n",
        "df_en = df_en.where('sentiment == \"neg\" ')\n",
        "df_pt = df_pt.where('sentiment == \"neg\" ')"
      ],
      "metadata": {
        "id": "2HBE0anSWvxB"
      },
      "execution_count": 18,
      "outputs": []
    },
    {
      "cell_type": "code",
      "source": [
        "# deixando apenas os textos nos arquivos\n",
        "df_en = df_en.drop('sentiment')\n",
        "df_pt = df_pt.drop('sentiment')"
      ],
      "metadata": {
        "id": "KrHxpEaGW1WJ"
      },
      "execution_count": 19,
      "outputs": []
    },
    {
      "cell_type": "code",
      "source": [
        "#dividindo o texto em palavras\n",
        "palavras_en = df_en.select(\"id\", explode(split(\"text_en\", \"[ ]+\")).alias(\"palavra\"))\n",
        "palavras_pt = df_pt.select(\"id\", explode(split(\"text_pt\", \"[ ]+\")).alias(\"palavra\"))"
      ],
      "metadata": {
        "id": "iNvNMI-cW5-c"
      },
      "execution_count": 20,
      "outputs": []
    },
    {
      "cell_type": "code",
      "source": [
        "# contando quantas vezes cada palavra aparece\n",
        "soma_palavras_en = palavras_en.groupBy(\"palavra\").count()\n",
        "soma_palavras_pt = palavras_pt.groupBy(\"palavra\").count()\n",
        "print(\"RU: \", ru)\n",
        "soma_palavras_en.show(5)\n",
        "soma_palavras_pt.show(5)"
      ],
      "metadata": {
        "colab": {
          "base_uri": "https://localhost:8080/"
        },
        "id": "PvVLg15oXKaT",
        "outputId": "7a71b955-1463-4bf6-c2cc-2653f641c889"
      },
      "execution_count": 21,
      "outputs": [
        {
          "output_type": "stream",
          "name": "stdout",
          "text": [
            "RU:  452947\n",
            "+-------+-----+\n",
            "|palavra|count|\n",
            "+-------+-----+\n",
            "|  Aside|  117|\n",
            "|    few| 3962|\n",
            "|  still| 3684|\n",
            "|  those| 3814|\n",
            "|    ...|  597|\n",
            "+-------+-----+\n",
            "only showing top 5 rows\n",
            "\n",
            "+---------+-----+\n",
            "|  palavra|count|\n",
            "+---------+-----+\n",
            "|Kutchers.|    2|\n",
            "|    podia|  469|\n",
            "|      ...|12425|\n",
            "|   exceto| 1193|\n",
            "| chamavam|   16|\n",
            "+---------+-----+\n",
            "only showing top 5 rows\n",
            "\n"
          ]
        }
      ]
    },
    {
      "cell_type": "code",
      "source": [
        "total_en = soma_palavras_en.agg(sum('count').alias(\"Total_palavras_en\")).first()[0]\n",
        "total_pt = soma_palavras_pt.agg(sum('count').alias(\"Total_palavras_pt\")).first()[0]\n",
        "print(\"RU: \", ru)\n",
        "print(f'total_inglês: {total_en}\\ntotal_português: {total_pt}')"
      ],
      "metadata": {
        "colab": {
          "base_uri": "https://localhost:8080/"
        },
        "id": "Z2WtJ3CVXkQJ",
        "outputId": "647143a7-cfd3-4b8e-a24f-1e56c272f62a"
      },
      "execution_count": 22,
      "outputs": [
        {
          "output_type": "stream",
          "name": "stdout",
          "text": [
            "RU:  452947\n",
            "total_inglês: 5400276\n",
            "total_português: 5455273\n"
          ]
        }
      ]
    },
    {
      "cell_type": "code",
      "source": [
        "print(\"RU: \", ru)\n",
        "print(f'Total de palavras em Português: {total_pt}\\nTotal de palavras em Inglês: {total_en}')\n",
        "print(f'Há {total_pt - total_en} mais palavras em português do que em inglês nesses textos.')"
      ],
      "metadata": {
        "colab": {
          "base_uri": "https://localhost:8080/"
        },
        "id": "6UxvtmZaXvOv",
        "outputId": "55980147-b913-44f0-c11b-d70b1a0b467f"
      },
      "execution_count": 23,
      "outputs": [
        {
          "output_type": "stream",
          "name": "stdout",
          "text": [
            "RU:  452947\n",
            "Total de palavras em Português: 5455273\n",
            "Total de palavras em Inglês: 5400276\n",
            "Há 54997 mais palavras em português do que em inglês nesses textos.\n"
          ]
        }
      ]
    },
    {
      "cell_type": "markdown",
      "source": [
        "###Conclusão\n",
        "Existem 54.997 palavras a mais nos textos em português do que em inglês"
      ],
      "metadata": {
        "id": "qfJ1gIAfaJsa"
      }
    }
  ]
}